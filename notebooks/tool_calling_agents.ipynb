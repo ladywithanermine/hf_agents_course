{
  "cells": [
    {
      "cell_type": "markdown",
      "metadata": {
        "id": "Pi9CF0391ARI"
      },
      "source": [
        "# Writing actions as code snippets or JSON blobs\n",
        "\n",
        "This notebook is part of the [Hugging Face Agents Course](https://www.hf.co/learn/agents-course), a free Course from beginner to expert, where you learn to build Agents.\n",
        "\n",
        "![Agents course share](https://huggingface.co/datasets/agents-course/course-images/resolve/main/en/communication/share.png)"
      ]
    },
    {
      "cell_type": "markdown",
      "metadata": {
        "id": "9gsYky7F1GzT"
      },
      "source": [
        "## Let's install the dependencies and login to our HF account to access the Inference API\n",
        "\n",
        "If you haven't installed `smolagents` yet, you can do so by running the following command:"
      ]
    },
    {
      "cell_type": "code",
      "execution_count": 1,
      "metadata": {
        "id": "MoFopncp0pnJ"
      },
      "outputs": [],
      "source": [
        "# Moved to the poetry environment\n",
        "#!pip install smolagents -U"
      ]
    },
    {
      "cell_type": "markdown",
      "metadata": {
        "id": "cH-4W1GhYL4T"
      },
      "source": [
        "Let's also login to the Hugging Face Hub to have access to the Inference API."
      ]
    },
    {
      "cell_type": "code",
      "execution_count": 1,
      "metadata": {
        "id": "TFTc-ry70y1f"
      },
      "outputs": [
        {
          "data": {
            "application/vnd.jupyter.widget-view+json": {
              "model_id": "c54d2294409d4c2aacbfc2b5280c684b",
              "version_major": 2,
              "version_minor": 0
            },
            "text/plain": [
              "VBox(children=(HTML(value='<center> <img\\nsrc=https://huggingface.co/front/assets/huggingface_logo-noborder.sv…"
            ]
          },
          "metadata": {},
          "output_type": "display_data"
        }
      ],
      "source": [
        "from huggingface_hub import notebook_login\n",
        "\n",
        "notebook_login()"
      ]
    },
    {
      "cell_type": "code",
      "execution_count": 3,
      "metadata": {},
      "outputs": [],
      "source": [
        "# Use a Gemini model to bypass the lack of HF credits for inference providers\n",
        "\n",
        "from dotenv import load_dotenv\n",
        "import os\n",
        "\n",
        "# Load environment variables from .env file\n",
        "load_dotenv()\n",
        "\n",
        "# Access the variables\n",
        "api_key = os.getenv(\"GEMINI_API_KEY\")\n",
        "hf_token = os.getenv(\"HF_TOKEN\")\n",
        "\n",
        "if not api_key:\n",
        "    raise ValueError(\"GEMINI_API_KEY is not set in the .env file.\")"
      ]
    },
    {
      "cell_type": "markdown",
      "metadata": {
        "id": "ekKxaZrd1HlB"
      },
      "source": [
        "## Selecting a Playlist for the Party Using `smolagents` and a `ToolCallingAgent`\n",
        "\n",
        "Let's revisit the previous example where Alfred started party preparations, but this time we'll use a `ToolCallingAgent` to highlight the difference. We'll build an agent that can search the web using DuckDuckGo, just like in our Code Agent example. The only difference is the agent type - the framework handles everything else:"
      ]
    },
    {
      "cell_type": "code",
      "execution_count": 5,
      "metadata": {
        "colab": {
          "base_uri": "https://localhost:8080/",
          "height": 1000
        },
        "id": "6IInDOUN01sP",
        "outputId": "e49f2360-d377-4ed8-b7ae-8da4a3e3757b"
      },
      "outputs": [
        {
          "data": {
            "text/html": [
              "<pre style=\"white-space:pre;overflow-x:auto;line-height:normal;font-family:Menlo,'DejaVu Sans Mono',consolas,'Courier New',monospace\"><span style=\"color: #d4b702; text-decoration-color: #d4b702\">╭──────────────────────────────────────────────────── </span><span style=\"color: #d4b702; text-decoration-color: #d4b702; font-weight: bold\">New run</span><span style=\"color: #d4b702; text-decoration-color: #d4b702\"> ────────────────────────────────────────────────────╮</span>\n",
              "<span style=\"color: #d4b702; text-decoration-color: #d4b702\">│</span>                                                                                                                 <span style=\"color: #d4b702; text-decoration-color: #d4b702\">│</span>\n",
              "<span style=\"color: #d4b702; text-decoration-color: #d4b702\">│</span> <span style=\"font-weight: bold\">Search for the best music recommendations for a party at the Wayne's mansion.</span>                                   <span style=\"color: #d4b702; text-decoration-color: #d4b702\">│</span>\n",
              "<span style=\"color: #d4b702; text-decoration-color: #d4b702\">│</span>                                                                                                                 <span style=\"color: #d4b702; text-decoration-color: #d4b702\">│</span>\n",
              "<span style=\"color: #d4b702; text-decoration-color: #d4b702\">╰─ LiteLLMModel - gemini/gemini-2.0-flash-lite ───────────────────────────────────────────────────────────────────╯</span>\n",
              "</pre>\n"
            ],
            "text/plain": [
              "\u001b[38;2;212;183;2m╭─\u001b[0m\u001b[38;2;212;183;2m───────────────────────────────────────────────────\u001b[0m\u001b[38;2;212;183;2m \u001b[0m\u001b[1;38;2;212;183;2mNew run\u001b[0m\u001b[38;2;212;183;2m \u001b[0m\u001b[38;2;212;183;2m───────────────────────────────────────────────────\u001b[0m\u001b[38;2;212;183;2m─╮\u001b[0m\n",
              "\u001b[38;2;212;183;2m│\u001b[0m                                                                                                                 \u001b[38;2;212;183;2m│\u001b[0m\n",
              "\u001b[38;2;212;183;2m│\u001b[0m \u001b[1mSearch for the best music recommendations for a party at the Wayne's mansion.\u001b[0m                                   \u001b[38;2;212;183;2m│\u001b[0m\n",
              "\u001b[38;2;212;183;2m│\u001b[0m                                                                                                                 \u001b[38;2;212;183;2m│\u001b[0m\n",
              "\u001b[38;2;212;183;2m╰─\u001b[0m\u001b[38;2;212;183;2m LiteLLMModel - gemini/gemini-2.0-flash-lite \u001b[0m\u001b[38;2;212;183;2m──────────────────────────────────────────────────────────────────\u001b[0m\u001b[38;2;212;183;2m─╯\u001b[0m\n"
            ]
          },
          "metadata": {},
          "output_type": "display_data"
        },
        {
          "data": {
            "text/html": [
              "<pre style=\"white-space:pre;overflow-x:auto;line-height:normal;font-family:Menlo,'DejaVu Sans Mono',consolas,'Courier New',monospace\"><span style=\"color: #d4b702; text-decoration-color: #d4b702\">━━━━━━━━━━━━━━━━━━━━━━━━━━━━━━━━━━━━━━━━━━━━━━━━━━━━━ </span><span style=\"font-weight: bold\">Step </span><span style=\"color: #008080; text-decoration-color: #008080; font-weight: bold\">1</span><span style=\"color: #d4b702; text-decoration-color: #d4b702\"> ━━━━━━━━━━━━━━━━━━━━━━━━━━━━━━━━━━━━━━━━━━━━━━━━━━━━━━</span>\n",
              "</pre>\n"
            ],
            "text/plain": [
              "\u001b[38;2;212;183;2m━━━━━━━━━━━━━━━━━━━━━━━━━━━━━━━━━━━━━━━━━━━━━━━━━━━━━ \u001b[0m\u001b[1mStep \u001b[0m\u001b[1;36m1\u001b[0m\u001b[38;2;212;183;2m ━━━━━━━━━━━━━━━━━━━━━━━━━━━━━━━━━━━━━━━━━━━━━━━━━━━━━━\u001b[0m\n"
            ]
          },
          "metadata": {},
          "output_type": "display_data"
        },
        {
          "data": {
            "text/html": [
              "<pre style=\"white-space:pre;overflow-x:auto;line-height:normal;font-family:Menlo,'DejaVu Sans Mono',consolas,'Courier New',monospace\">╭─────────────────────────────────────────────────────────────────────────────────────────────────────────────────╮\n",
              "│ Calling tool: 'web_search' with arguments: {'query': \"best music recommendations for a party at Wayne's         │\n",
              "│ mansion\"}                                                                                                       │\n",
              "╰─────────────────────────────────────────────────────────────────────────────────────────────────────────────────╯\n",
              "</pre>\n"
            ],
            "text/plain": [
              "╭─────────────────────────────────────────────────────────────────────────────────────────────────────────────────╮\n",
              "│ Calling tool: 'web_search' with arguments: {'query': \"best music recommendations for a party at Wayne's         │\n",
              "│ mansion\"}                                                                                                       │\n",
              "╰─────────────────────────────────────────────────────────────────────────────────────────────────────────────────╯\n"
            ]
          },
          "metadata": {},
          "output_type": "display_data"
        },
        {
          "data": {
            "text/html": [
              "<pre style=\"white-space:pre;overflow-x:auto;line-height:normal;font-family:Menlo,'DejaVu Sans Mono',consolas,'Courier New',monospace\">Observations: ## Search Results\n",
              "\n",
              "|late nights in the wayne manor | a bruce wayne rock/blues playlist<span style=\"font-weight: bold\">](</span><span style=\"color: #0000ff; text-decoration-color: #0000ff; text-decoration: underline\">https://www.youtube.com/watch?v=oOdHCjj3jn4)</span>\n",
              "these are songs that bruce wayne listens to while wandering the halls of the great wayne manor.find this playlist \n",
              "on my spotify: <span style=\"color: #0000ff; text-decoration-color: #0000ff; text-decoration: underline\">https://open.spotify.com/use...</span>\n",
              "\n",
              "|The <span style=\"color: #008080; text-decoration-color: #008080; font-weight: bold\">75</span> Best Party Songs That Will Get Everyone Dancing - \n",
              "Gear4music<span style=\"font-weight: bold\">](</span><span style=\"color: #0000ff; text-decoration-color: #0000ff; text-decoration: underline\">https://www.gear4music.com/blog/best-party-songs/)</span>\n",
              "The best party songs <span style=\"color: #008080; text-decoration-color: #008080; font-weight: bold\">1</span>. <span style=\"color: #008000; text-decoration-color: #008000\">\"September\"</span> - Earth, Wind &amp; Fire <span style=\"font-weight: bold\">(</span><span style=\"color: #008080; text-decoration-color: #008080; font-weight: bold\">1978</span><span style=\"font-weight: bold\">)</span> Quite possibly the best party song. An infectious \n",
              "mix of funk and soul, <span style=\"color: #008000; text-decoration-color: #008000\">\"September\"</span> is celebrated for its upbeat melody and <span style=\"color: #008000; text-decoration-color: #008000\">\"ba-dee-ya\"</span> chorus, making it a timeless \n",
              "dance favorite.\n",
              "\n",
              "|A Guide to Wayne Manor - YouTube<span style=\"font-weight: bold\">](</span><span style=\"color: #0000ff; text-decoration-color: #0000ff; text-decoration: underline\">https://www.youtube.com/watch?v=_7JTlOEk64I)</span>\n",
              "I guide you through the stately home of Bruce Wayne… Wayne Manor!The soundtrack to this video inclu<span style=\"color: #00ff00; text-decoration-color: #00ff00; font-weight: bold\">ded:B</span>lack Vortex\n",
              "- Scoring Action by Kevin MacLeod is lice<span style=\"color: #808000; text-decoration-color: #808000\">...</span>\n",
              "\n",
              "|<span style=\"color: #008080; text-decoration-color: #008080; font-weight: bold\">40</span> Best Party Songs | Songs To Dance To, Ranked By Our Editors - Time \n",
              "Out<span style=\"font-weight: bold\">](</span><span style=\"color: #0000ff; text-decoration-color: #0000ff; text-decoration: underline\">https://www.timeout.com/music/best-party-songs)</span>\n",
              "The <span style=\"color: #008080; text-decoration-color: #008080; font-weight: bold\">40</span> best party songs ever made. It's party time guys - don your dancing shoes and have your speaker at the \n",
              "ready. Thursday <span style=\"color: #008080; text-decoration-color: #008080; font-weight: bold\">13</span> February <span style=\"color: #008080; text-decoration-color: #008080; font-weight: bold\">2025</span>. Share. Copy Link. Facebook Twitter Pinterest <span style=\"color: #808000; text-decoration-color: #808000\">...</span>\n",
              "\n",
              "|<span style=\"color: #008080; text-decoration-color: #008080; font-weight: bold\">50</span> Songs on Every Event Planner's Playlist - \n",
              "Eventbrite<span style=\"font-weight: bold\">](</span><span style=\"color: #0000ff; text-decoration-color: #0000ff; text-decoration: underline\">https://www.eventbrite.com/blog/event-planning-playlist-ds00/)</span>\n",
              "Music sets the mood and provides the soundtrack <span style=\"font-weight: bold\">(</span>literally<span style=\"font-weight: bold\">)</span> for a memorable and exciting time. While the right \n",
              "songs can enhance the experience, the wrong event music can throw off the vibe. For example, fast-paced songs \n",
              "probably aren't the best fit for a formal gala. And smooth jazz is likely to lull your guests at a motivational \n",
              "conference.\n",
              "\n",
              "|Similar Songs Finder | Spotify Playlist Generator - Chosic<span style=\"font-weight: bold\">](</span><span style=\"color: #0000ff; text-decoration-color: #0000ff; text-decoration: underline\">https://www.chosic.com/playlist-generator/)</span>\n",
              "Need to find similar songs to a song you like? To music you love? A playlist created for you in seconds! With \n",
              "Spotify Playlist Generator online tool, create awesome playlists in seconds, featuring similar songs to those you \n",
              "love. Whether by songs, artists, genres, moods, or based on a playlist, just start with what you have in mind, and \n",
              "it will provide you with plenty of song recommendations <span style=\"color: #808000; text-decoration-color: #808000\">...</span>\n",
              "\n",
              "|So I wanna get into Wayne's music any recommendations for <span style=\"color: #808000; text-decoration-color: #808000\">...</span> - \n",
              "Reddit<span style=\"font-weight: bold\">](</span><span style=\"color: #0000ff; text-decoration-color: #0000ff; text-decoration: underline\">https://www.reddit.com/r/lilwayne/comments/15h8lxm/so_i_wanna_get_into_waynes_music_any/)</span>\n",
              "There's like <span style=\"color: #008080; text-decoration-color: #008080; font-weight: bold\">7</span> of them. There's also a couple unofficial collaboration tapes with Wayne and Juelz Santana called \n",
              "<span style=\"color: #008000; text-decoration-color: #008000\">\"my face can't be felt\"</span> and <span style=\"color: #008000; text-decoration-color: #008000\">\"blow\"</span> For recent unreleased Weezy, check out <span style=\"color: #008000; text-decoration-color: #008000\">\"Velvet\"</span> one of my favorite Wayne songs \n",
              "ever is on there called <span style=\"color: #008000; text-decoration-color: #008000\">\"Little Girl Eyes\"</span> beautiful fuckin song.\n",
              "\n",
              "|<span style=\"color: #008080; text-decoration-color: #008080; font-weight: bold\">200</span> Classic House Party Songs Everyone Knows | The Best <span style=\"color: #808000; text-decoration-color: #808000\">...</span> - \n",
              "iSpyTunes<span style=\"font-weight: bold\">](</span><span style=\"color: #0000ff; text-decoration-color: #0000ff; text-decoration: underline\">https://www.ispytunes.com/post/house-party-songs)</span>\n",
              "Next, let's get into reviewing <span style=\"color: #008080; text-decoration-color: #008080; font-weight: bold\">20</span> of the best songs for your next house party. <span style=\"color: #008080; text-decoration-color: #008080; font-weight: bold\">1</span>. rockstar by Post Malone <span style=\"font-weight: bold\">(</span>feat. <span style=\"color: #008080; text-decoration-color: #008080; font-weight: bold\">21</span>\n",
              "Savage<span style=\"font-weight: bold\">)</span> <span style=\"color: #008000; text-decoration-color: #008000\">\"rockstar\"</span> by Post Malone <span style=\"font-weight: bold\">(</span>feat. <span style=\"color: #008080; text-decoration-color: #008080; font-weight: bold\">21</span> Savage<span style=\"font-weight: bold\">)</span> is an incredibly popular song with a great instrumental and an \n",
              "infectious chorus, which makes it a perfect song for playing at parties. The whole song is like a giant energy <span style=\"color: #808000; text-decoration-color: #808000\">...</span>\n",
              "\n",
              "|Song Lists to help you plan the perfect music for your event!<span style=\"font-weight: bold\">](</span><span style=\"color: #0000ff; text-decoration-color: #0000ff; text-decoration: underline\">http://pianistforparties.com/songs/)</span>\n",
              "Song ideas to help you plan music for your wedding, corporate event or memorial service, by Event Pianist, Sharon \n",
              "Planer. <span style=\"color: #808000; text-decoration-color: #808000\">...</span> Reception &amp; Party. <span style=\"color: #008080; text-decoration-color: #008080; font-weight: bold\">100</span> Years. A Day in the Life of a Fool. Accidentally in Love. All Blues. Always. \n",
              "Ain't Misbehaving. <span style=\"color: #808000; text-decoration-color: #808000\">...</span> Mansion Over the Hilltop. My Heart is Longing. My Way. Near to the Heart of God. Old Rugged \n",
              "Cross <span style=\"color: #808000; text-decoration-color: #808000\">...</span>\n",
              "\n",
              "|The Perfect Playlist for Your Evening Soiree | Yellow \n",
              "Co.<span style=\"font-weight: bold\">](</span><span style=\"color: #0000ff; text-decoration-color: #0000ff; text-decoration: underline\">https://archive.yellowco.co/blog/2015/05/21/dinner-party-playlist/)</span>\n",
              "Soiree: noun; an evening party or gathering…for conversation or music It's finally the weekend, and you've invited \n",
              "some of your favorite people over for an evening together. Delicious aromas are wafting from your kitchen and \n",
              "stomachs are grumbling. Maybe you have a bottle of red wine breathing or the makings of cocktails ready at the bar \n",
              "or icy glasses of lemonade at every spot. The <span style=\"color: #808000; text-decoration-color: #808000\">...</span>\n",
              "</pre>\n"
            ],
            "text/plain": [
              "Observations: ## Search Results\n",
              "\n",
              "|late nights in the wayne manor | a bruce wayne rock/blues playlist\u001b[1m]\u001b[0m\u001b[1m(\u001b[0m\u001b[4;94mhttps://www.youtube.com/watch?\u001b[0m\u001b[4;94mv\u001b[0m\u001b[4;94m=\u001b[0m\u001b[4;94moOdHCjj3jn4\u001b[0m\u001b[4;94m)\u001b[0m\n",
              "these are songs that bruce wayne listens to while wandering the halls of the great wayne manor.find this playlist \n",
              "on my spotify: \u001b[4;94mhttps://open.spotify.com/use...\u001b[0m\n",
              "\n",
              "|The \u001b[1;36m75\u001b[0m Best Party Songs That Will Get Everyone Dancing - \n",
              "Gear4music\u001b[1m]\u001b[0m\u001b[1m(\u001b[0m\u001b[4;94mhttps://www.gear4music.com/blog/best-party-songs/\u001b[0m\u001b[4;94m)\u001b[0m\n",
              "The best party songs \u001b[1;36m1\u001b[0m. \u001b[32m\"September\"\u001b[0m - Earth, Wind & Fire \u001b[1m(\u001b[0m\u001b[1;36m1978\u001b[0m\u001b[1m)\u001b[0m Quite possibly the best party song. An infectious \n",
              "mix of funk and soul, \u001b[32m\"September\"\u001b[0m is celebrated for its upbeat melody and \u001b[32m\"ba-dee-ya\"\u001b[0m chorus, making it a timeless \n",
              "dance favorite.\n",
              "\n",
              "|A Guide to Wayne Manor - YouTube\u001b[1m]\u001b[0m\u001b[1m(\u001b[0m\u001b[4;94mhttps://www.youtube.com/watch?\u001b[0m\u001b[4;94mv\u001b[0m\u001b[4;94m=\u001b[0m\u001b[4;94m_7JTlOEk64I\u001b[0m\u001b[4;94m)\u001b[0m\n",
              "I guide you through the stately home of Bruce Wayne… Wayne Manor!The soundtrack to this video inclu\u001b[1;92mded:B\u001b[0mlack Vortex\n",
              "- Scoring Action by Kevin MacLeod is lice\u001b[33m...\u001b[0m\n",
              "\n",
              "|\u001b[1;36m40\u001b[0m Best Party Songs | Songs To Dance To, Ranked By Our Editors - Time \n",
              "Out\u001b[1m]\u001b[0m\u001b[1m(\u001b[0m\u001b[4;94mhttps://www.timeout.com/music/best-party-songs\u001b[0m\u001b[4;94m)\u001b[0m\n",
              "The \u001b[1;36m40\u001b[0m best party songs ever made. It's party time guys - don your dancing shoes and have your speaker at the \n",
              "ready. Thursday \u001b[1;36m13\u001b[0m February \u001b[1;36m2025\u001b[0m. Share. Copy Link. Facebook Twitter Pinterest \u001b[33m...\u001b[0m\n",
              "\n",
              "|\u001b[1;36m50\u001b[0m Songs on Every Event Planner's Playlist - \n",
              "Eventbrite\u001b[1m]\u001b[0m\u001b[1m(\u001b[0m\u001b[4;94mhttps://www.eventbrite.com/blog/event-planning-playlist-ds00/\u001b[0m\u001b[4;94m)\u001b[0m\n",
              "Music sets the mood and provides the soundtrack \u001b[1m(\u001b[0mliterally\u001b[1m)\u001b[0m for a memorable and exciting time. While the right \n",
              "songs can enhance the experience, the wrong event music can throw off the vibe. For example, fast-paced songs \n",
              "probably aren't the best fit for a formal gala. And smooth jazz is likely to lull your guests at a motivational \n",
              "conference.\n",
              "\n",
              "|Similar Songs Finder | Spotify Playlist Generator - Chosic\u001b[1m]\u001b[0m\u001b[1m(\u001b[0m\u001b[4;94mhttps://www.chosic.com/playlist-generator/\u001b[0m\u001b[4;94m)\u001b[0m\n",
              "Need to find similar songs to a song you like? To music you love? A playlist created for you in seconds! With \n",
              "Spotify Playlist Generator online tool, create awesome playlists in seconds, featuring similar songs to those you \n",
              "love. Whether by songs, artists, genres, moods, or based on a playlist, just start with what you have in mind, and \n",
              "it will provide you with plenty of song recommendations \u001b[33m...\u001b[0m\n",
              "\n",
              "|So I wanna get into Wayne's music any recommendations for \u001b[33m...\u001b[0m - \n",
              "Reddit\u001b[1m]\u001b[0m\u001b[1m(\u001b[0m\u001b[4;94mhttps://www.reddit.com/r/lilwayne/comments/15h8lxm/so_i_wanna_get_into_waynes_music_any/\u001b[0m\u001b[4;94m)\u001b[0m\n",
              "There's like \u001b[1;36m7\u001b[0m of them. There's also a couple unofficial collaboration tapes with Wayne and Juelz Santana called \n",
              "\u001b[32m\"my face can't be felt\"\u001b[0m and \u001b[32m\"blow\"\u001b[0m For recent unreleased Weezy, check out \u001b[32m\"Velvet\"\u001b[0m one of my favorite Wayne songs \n",
              "ever is on there called \u001b[32m\"Little Girl Eyes\"\u001b[0m beautiful fuckin song.\n",
              "\n",
              "|\u001b[1;36m200\u001b[0m Classic House Party Songs Everyone Knows | The Best \u001b[33m...\u001b[0m - \n",
              "iSpyTunes\u001b[1m]\u001b[0m\u001b[1m(\u001b[0m\u001b[4;94mhttps://www.ispytunes.com/post/house-party-songs\u001b[0m\u001b[4;94m)\u001b[0m\n",
              "Next, let's get into reviewing \u001b[1;36m20\u001b[0m of the best songs for your next house party. \u001b[1;36m1\u001b[0m. rockstar by Post Malone \u001b[1m(\u001b[0mfeat. \u001b[1;36m21\u001b[0m\n",
              "Savage\u001b[1m)\u001b[0m \u001b[32m\"rockstar\"\u001b[0m by Post Malone \u001b[1m(\u001b[0mfeat. \u001b[1;36m21\u001b[0m Savage\u001b[1m)\u001b[0m is an incredibly popular song with a great instrumental and an \n",
              "infectious chorus, which makes it a perfect song for playing at parties. The whole song is like a giant energy \u001b[33m...\u001b[0m\n",
              "\n",
              "|Song Lists to help you plan the perfect music for your event!\u001b[1m]\u001b[0m\u001b[1m(\u001b[0m\u001b[4;94mhttp://pianistforparties.com/songs/\u001b[0m\u001b[4;94m)\u001b[0m\n",
              "Song ideas to help you plan music for your wedding, corporate event or memorial service, by Event Pianist, Sharon \n",
              "Planer. \u001b[33m...\u001b[0m Reception & Party. \u001b[1;36m100\u001b[0m Years. A Day in the Life of a Fool. Accidentally in Love. All Blues. Always. \n",
              "Ain't Misbehaving. \u001b[33m...\u001b[0m Mansion Over the Hilltop. My Heart is Longing. My Way. Near to the Heart of God. Old Rugged \n",
              "Cross \u001b[33m...\u001b[0m\n",
              "\n",
              "|The Perfect Playlist for Your Evening Soiree | Yellow \n",
              "Co.\u001b[1m]\u001b[0m\u001b[1m(\u001b[0m\u001b[4;94mhttps://archive.yellowco.co/blog/2015/05/21/dinner-party-playlist/\u001b[0m\u001b[4;94m)\u001b[0m\n",
              "Soiree: noun; an evening party or gathering…for conversation or music It's finally the weekend, and you've invited \n",
              "some of your favorite people over for an evening together. Delicious aromas are wafting from your kitchen and \n",
              "stomachs are grumbling. Maybe you have a bottle of red wine breathing or the makings of cocktails ready at the bar \n",
              "or icy glasses of lemonade at every spot. The \u001b[33m...\u001b[0m\n"
            ]
          },
          "metadata": {},
          "output_type": "display_data"
        },
        {
          "data": {
            "text/html": [
              "<pre style=\"white-space:pre;overflow-x:auto;line-height:normal;font-family:Menlo,'DejaVu Sans Mono',consolas,'Courier New',monospace\"><span style=\"color: #7f7f7f; text-decoration-color: #7f7f7f\">[Step 1: Duration 1.97 seconds| Input tokens: 1,060 | Output tokens: 15]</span>\n",
              "</pre>\n"
            ],
            "text/plain": [
              "\u001b[2m[Step 1: Duration 1.97 seconds| Input tokens: 1,060 | Output tokens: 15]\u001b[0m\n"
            ]
          },
          "metadata": {},
          "output_type": "display_data"
        },
        {
          "data": {
            "text/html": [
              "<pre style=\"white-space:pre;overflow-x:auto;line-height:normal;font-family:Menlo,'DejaVu Sans Mono',consolas,'Courier New',monospace\"><span style=\"color: #d4b702; text-decoration-color: #d4b702\">━━━━━━━━━━━━━━━━━━━━━━━━━━━━━━━━━━━━━━━━━━━━━━━━━━━━━ </span><span style=\"font-weight: bold\">Step </span><span style=\"color: #008080; text-decoration-color: #008080; font-weight: bold\">2</span><span style=\"color: #d4b702; text-decoration-color: #d4b702\"> ━━━━━━━━━━━━━━━━━━━━━━━━━━━━━━━━━━━━━━━━━━━━━━━━━━━━━━</span>\n",
              "</pre>\n"
            ],
            "text/plain": [
              "\u001b[38;2;212;183;2m━━━━━━━━━━━━━━━━━━━━━━━━━━━━━━━━━━━━━━━━━━━━━━━━━━━━━ \u001b[0m\u001b[1mStep \u001b[0m\u001b[1;36m2\u001b[0m\u001b[38;2;212;183;2m ━━━━━━━━━━━━━━━━━━━━━━━━━━━━━━━━━━━━━━━━━━━━━━━━━━━━━━\u001b[0m\n"
            ]
          },
          "metadata": {},
          "output_type": "display_data"
        },
        {
          "data": {
            "text/html": [
              "<pre style=\"white-space:pre;overflow-x:auto;line-height:normal;font-family:Menlo,'DejaVu Sans Mono',consolas,'Courier New',monospace\">╭─────────────────────────────────────────────────────────────────────────────────────────────────────────────────╮\n",
              "│ Calling tool: 'final_answer' with arguments: {'answer': 'Based on the search results, here are some music       │\n",
              "│ recommendations for a party at Wayne\\'s Mansion:\\n\\n*   **For a Bruce Wayne-esque vibe:** Explore playlists     │\n",
              "│ like \"late nights in the wayne manor\" (often rock/blues). \\n*   **Classic Party Anthems:** Consider songs like  │\n",
              "│ \"September\" by Earth, Wind &amp; Fire, which is considered a timeless dance favorite.\\n*   **General Party Songs:** │\n",
              "│ Websites like Gear4music and Time Out offer lists of the best party songs, which would be suitable for a party. │\n",
              "│ \\n*   **House Party Music:** Check out lists of classic house party songs for inspiration, such as the list on  │\n",
              "│ iSpyTunes.\\n*   **Spotify Playlist Generator:** Use a Spotify playlist generator to find similar songs to ones  │\n",
              "│ you enjoy.\\n\\nRemember to consider the specific vibe you want to create for your party at Wayne\\'s Mansion!'}   │\n",
              "╰─────────────────────────────────────────────────────────────────────────────────────────────────────────────────╯\n",
              "</pre>\n"
            ],
            "text/plain": [
              "╭─────────────────────────────────────────────────────────────────────────────────────────────────────────────────╮\n",
              "│ Calling tool: 'final_answer' with arguments: {'answer': 'Based on the search results, here are some music       │\n",
              "│ recommendations for a party at Wayne\\'s Mansion:\\n\\n*   **For a Bruce Wayne-esque vibe:** Explore playlists     │\n",
              "│ like \"late nights in the wayne manor\" (often rock/blues). \\n*   **Classic Party Anthems:** Consider songs like  │\n",
              "│ \"September\" by Earth, Wind & Fire, which is considered a timeless dance favorite.\\n*   **General Party Songs:** │\n",
              "│ Websites like Gear4music and Time Out offer lists of the best party songs, which would be suitable for a party. │\n",
              "│ \\n*   **House Party Music:** Check out lists of classic house party songs for inspiration, such as the list on  │\n",
              "│ iSpyTunes.\\n*   **Spotify Playlist Generator:** Use a Spotify playlist generator to find similar songs to ones  │\n",
              "│ you enjoy.\\n\\nRemember to consider the specific vibe you want to create for your party at Wayne\\'s Mansion!'}   │\n",
              "╰─────────────────────────────────────────────────────────────────────────────────────────────────────────────────╯\n"
            ]
          },
          "metadata": {},
          "output_type": "display_data"
        },
        {
          "data": {
            "text/html": [
              "<pre style=\"white-space:pre;overflow-x:auto;line-height:normal;font-family:Menlo,'DejaVu Sans Mono',consolas,'Courier New',monospace\"><span style=\"color: #d4b702; text-decoration-color: #d4b702; font-weight: bold\">Final answer: Based on the search results, here are some music recommendations for a party at Wayne's Mansion:</span>\n",
              "\n",
              "<span style=\"color: #d4b702; text-decoration-color: #d4b702; font-weight: bold\">*   **For a Bruce Wayne-esque vibe:** Explore playlists like \"late nights in the wayne manor\" (often rock/blues). </span>\n",
              "<span style=\"color: #d4b702; text-decoration-color: #d4b702; font-weight: bold\">*   **Classic Party Anthems:** Consider songs like \"September\" by Earth, Wind &amp; Fire, which is considered a </span>\n",
              "<span style=\"color: #d4b702; text-decoration-color: #d4b702; font-weight: bold\">timeless dance favorite.</span>\n",
              "<span style=\"color: #d4b702; text-decoration-color: #d4b702; font-weight: bold\">*   **General Party Songs:** Websites like Gear4music and Time Out offer lists of the best party songs, which would</span>\n",
              "<span style=\"color: #d4b702; text-decoration-color: #d4b702; font-weight: bold\">be suitable for a party. </span>\n",
              "<span style=\"color: #d4b702; text-decoration-color: #d4b702; font-weight: bold\">*   **House Party Music:** Check out lists of classic house party songs for inspiration, such as the list on </span>\n",
              "<span style=\"color: #d4b702; text-decoration-color: #d4b702; font-weight: bold\">iSpyTunes.</span>\n",
              "<span style=\"color: #d4b702; text-decoration-color: #d4b702; font-weight: bold\">*   **Spotify Playlist Generator:** Use a Spotify playlist generator to find similar songs to ones you enjoy.</span>\n",
              "\n",
              "<span style=\"color: #d4b702; text-decoration-color: #d4b702; font-weight: bold\">Remember to consider the specific vibe you want to create for your party at Wayne's Mansion!</span>\n",
              "</pre>\n"
            ],
            "text/plain": [
              "\u001b[1;38;2;212;183;2mFinal answer: Based on the search results, here are some music recommendations for a party at Wayne's Mansion:\u001b[0m\n",
              "\n",
              "\u001b[1;38;2;212;183;2m*   **For a Bruce Wayne-esque vibe:** Explore playlists like \"late nights in the wayne manor\" (often rock/blues). \u001b[0m\n",
              "\u001b[1;38;2;212;183;2m*   **Classic Party Anthems:** Consider songs like \"September\" by Earth, Wind & Fire, which is considered a \u001b[0m\n",
              "\u001b[1;38;2;212;183;2mtimeless dance favorite.\u001b[0m\n",
              "\u001b[1;38;2;212;183;2m*   **General Party Songs:** Websites like Gear4music and Time Out offer lists of the best party songs, which would\u001b[0m\n",
              "\u001b[1;38;2;212;183;2mbe suitable for a party. \u001b[0m\n",
              "\u001b[1;38;2;212;183;2m*   **House Party Music:** Check out lists of classic house party songs for inspiration, such as the list on \u001b[0m\n",
              "\u001b[1;38;2;212;183;2miSpyTunes.\u001b[0m\n",
              "\u001b[1;38;2;212;183;2m*   **Spotify Playlist Generator:** Use a Spotify playlist generator to find similar songs to ones you enjoy.\u001b[0m\n",
              "\n",
              "\u001b[1;38;2;212;183;2mRemember to consider the specific vibe you want to create for your party at Wayne's Mansion!\u001b[0m\n"
            ]
          },
          "metadata": {},
          "output_type": "display_data"
        },
        {
          "data": {
            "text/html": [
              "<pre style=\"white-space:pre;overflow-x:auto;line-height:normal;font-family:Menlo,'DejaVu Sans Mono',consolas,'Courier New',monospace\"><span style=\"color: #7f7f7f; text-decoration-color: #7f7f7f\">[Step 2: Duration 2.02 seconds| Input tokens: 3,288 | Output tokens: 203]</span>\n",
              "</pre>\n"
            ],
            "text/plain": [
              "\u001b[2m[Step 2: Duration 2.02 seconds| Input tokens: 3,288 | Output tokens: 203]\u001b[0m\n"
            ]
          },
          "metadata": {},
          "output_type": "display_data"
        },
        {
          "data": {
            "text/plain": [
              "'Based on the search results, here are some music recommendations for a party at Wayne\\'s Mansion:\\n\\n*   **For a Bruce Wayne-esque vibe:** Explore playlists like \"late nights in the wayne manor\" (often rock/blues). \\n*   **Classic Party Anthems:** Consider songs like \"September\" by Earth, Wind & Fire, which is considered a timeless dance favorite.\\n*   **General Party Songs:** Websites like Gear4music and Time Out offer lists of the best party songs, which would be suitable for a party. \\n*   **House Party Music:** Check out lists of classic house party songs for inspiration, such as the list on iSpyTunes.\\n*   **Spotify Playlist Generator:** Use a Spotify playlist generator to find similar songs to ones you enjoy.\\n\\nRemember to consider the specific vibe you want to create for your party at Wayne\\'s Mansion!'"
            ]
          },
          "execution_count": 5,
          "metadata": {},
          "output_type": "execute_result"
        }
      ],
      "source": [
        "from smolagents import ToolCallingAgent, DuckDuckGoSearchTool, HfApiModel\n",
        "\n",
        "# Use a Gemini model to bypass the lack of HF credits for inference providers\n",
        "from smolagents import LiteLLMModel\n",
        "model = LiteLLMModel(model_id=\"gemini/gemini-2.0-flash-lite\", api_key=api_key)\n",
        "agent = ToolCallingAgent(tools=[DuckDuckGoSearchTool()], model=model)\n",
        "\n",
        "# agent = ToolCallingAgent(tools=[DuckDuckGoSearchTool()], model=HfApiModel())\n",
        "\n",
        "agent.run(\"Search for the best music recommendations for a party at the Wayne's mansion.\")"
      ]
    },
    {
      "cell_type": "markdown",
      "metadata": {
        "id": "Cl19VWGRYXrr"
      },
      "source": [
        "\n",
        "When you examine the agent's trace, instead of seeing `Executing parsed code:`, you'll see something like:\n",
        "\n",
        "```text\n",
        "╭─────────────────────────────────────────────────────────────────────────────────────────────────────────────────╮\n",
        "│ Calling tool: 'web_search' with arguments: {'query': \"best music recommendations for a party at Wayne's         │\n",
        "│ mansion\"}                                                                                                       │\n",
        "╰─────────────────────────────────────────────────────────────────────────────────────────────────────────────────╯\n",
        "```  \n",
        "\n",
        "The agent generates a structured tool call that the system processes to produce the output, rather than directly executing code like a `CodeAgent`.\n",
        "\n",
        "Now that we understand both agent types, we can choose the right one for our needs. Let's continue exploring `smolagents` to make Alfred's party a success! 🎉"
      ]
    }
  ],
  "metadata": {
    "colab": {
      "provenance": []
    },
    "kernelspec": {
      "display_name": ".venv",
      "language": "python",
      "name": "python3"
    },
    "language_info": {
      "codemirror_mode": {
        "name": "ipython",
        "version": 3
      },
      "file_extension": ".py",
      "mimetype": "text/x-python",
      "name": "python",
      "nbconvert_exporter": "python",
      "pygments_lexer": "ipython3",
      "version": "3.11.9"
    }
  },
  "nbformat": 4,
  "nbformat_minor": 0
}
